{
 "cells": [
  {
   "cell_type": "code",
   "execution_count": 2,
   "id": "4cdfdd7d",
   "metadata": {},
   "outputs": [],
   "source": [
    "import ub_camera"
   ]
  },
  {
   "cell_type": "markdown",
   "id": "a8a3a8a5",
   "metadata": {},
   "source": [
    "# 1. Initialize your camera\n",
    "There are 3 types of camera classes:\n",
    "1. `CameraUSB` - This is for any camera that has a device path (like `/dev/video0`).  Examples include webcams, internal laptop cams, and even Raspberry Pi cameras.\n",
    "2. `CameraROS` - This is for cameras that subscribe to compressedImage topic, including Gazebo simulations and the Clover drone (real hardware).\n",
    "3. `CameraPi` - This is exclusive to Raspberry Pi cameras that use the `picamera` package.  This option is deprecated.\n",
    "\n",
    "If you're unsure, chances are `CameraUSB` is the appropriate class for you."
   ]
  },
  {
   "cell_type": "code",
   "execution_count": 3,
   "id": "eca46c9c",
   "metadata": {},
   "outputs": [
    {
     "name": "stdout",
     "output_type": "stream",
     "text": [
      "Logger:  No topic name/type found.  Just using print()\n",
      "LOGGER: {'res_rows': 480, 'res_cols': 640, 'fps_target': 30, 'outputPort': 8000}\n"
     ]
    }
   ],
   "source": [
    "# Initialize `CameraUSB` Class\n",
    "paramDict = {'res_rows':480, 'res_cols':640, 'fps_target':30, 'outputPort': 8000}\n",
    "device    = '/dev/video0'\n",
    "\n",
    "camera = ub_camera.CameraUSB(paramDict = paramDict, device = device)\n",
    "\n",
    "# FIXME -- Need to document the arguments in the `CameraUSB` class."
   ]
  },
  {
   "cell_type": "code",
   "execution_count": 4,
   "id": "8392a706",
   "metadata": {},
   "outputs": [
    {
     "name": "stderr",
     "output_type": "stream",
     "text": [
      "127.0.0.1 - - [27/Jan/2025 20:32:55] \"GET /stream.mjpg HTTP/1.1\" 200 -\n"
     ]
    }
   ],
   "source": [
    "# Start the camera\n",
    "camera.start()\n",
    "\n",
    "# Stream the camera feed to be viewed in a browser\n",
    "# Visit https://localhost:8000/stream.mjpg\n",
    "camera.startStream(port=8000)\n",
    "\n",
    "# NOTE:  You could combine the start and stream options into one command:\n",
    "# camera.start(startStream=True, port=8000)"
   ]
  },
  {
   "cell_type": "markdown",
   "id": "88a62000",
   "metadata": {},
   "source": [
    "## Aruco Tags\n",
    "- **NOTE** You will need to calibrate the camera if you want to be able to determine the distance from a tag.\n",
    "    - See `addCalibrate()` function"
   ]
  },
  {
   "cell_type": "code",
   "execution_count": 10,
   "id": "45049d35",
   "metadata": {},
   "outputs": [
    {
     "name": "stdout",
     "output_type": "stream",
     "text": [
      "LOGGER: Starting ArUco DICT_4X4_250 thread at 20 fps\n"
     ]
    }
   ],
   "source": [
    "camera.addAruco('DICT_4X4_250', fps_target=20)\n",
    "# camera.addAruco('DICT_APRILTAG_36h11', fps_target=20)\n",
    "# camera.addAruco('DICT_APRILTAG_16h5', fps_target=20)"
   ]
  },
  {
   "cell_type": "code",
   "execution_count": 11,
   "id": "1e220125",
   "metadata": {},
   "outputs": [
    {
     "name": "stdout",
     "output_type": "stream",
     "text": [
      "LOGGER: Stopping ArUco DICT_4X4_250 thread.\n",
      "LOGGER: Stopping ArUco DICT_4X4_250 thread.\n",
      "LOGGER: Stopping ArUco DICT_4X4_250 thread - no longer active.\n",
      "LOGGER: Stopping ArUco DICT_4X4_250 thread.\n"
     ]
    }
   ],
   "source": [
    "# Stop the ArUco thread:\n",
    "camera.aruco['DICT_4X4_250'].stop()\n",
    "# camera.aruco['DICT_APRILTAG_36h11'].stop()\n",
    "# camera.aruco['DICT_APRILTAG_16h5'].stop()"
   ]
  },
  {
   "cell_type": "markdown",
   "id": "9e3d03a0",
   "metadata": {},
   "source": [
    "## Detect Barcodes"
   ]
  },
  {
   "cell_type": "code",
   "execution_count": 21,
   "id": "ce63e9d9",
   "metadata": {},
   "outputs": [],
   "source": [
    "def barcodePost():\n",
    "    try:\n",
    "        if (len(camera.barcode['default'].deque) > 0):\n",
    "            if (len(camera.barcode['default'].deque[0]['data']) > 0):\n",
    "                print(camera.barcode['default'].deque)\n",
    "    except Exception as e:\n",
    "        pass"
   ]
  },
  {
   "cell_type": "code",
   "execution_count": 23,
   "id": "f2c9fc68",
   "metadata": {},
   "outputs": [
    {
     "name": "stdout",
     "output_type": "stream",
     "text": [
      "LOGGER: Starting barcode default thread at 5 fps\n",
      "deque([{'data': ['0024300041563'], 'codeTypes': ['EAN13'], 'qualities': [46], 'corners': [[(175, 223), (327, 255)]], 'color': (0, 0, 255)}], maxlen=1)\n",
      "deque([{'data': ['0024300041563'], 'codeTypes': ['EAN13'], 'qualities': [14], 'corners': [[(173, 306), (329, 332)]], 'color': (0, 0, 255)}], maxlen=1)\n",
      "deque([{'data': ['0024300041563'], 'codeTypes': ['EAN13'], 'qualities': [103], 'corners': [[(173, 226), (329, 331)]], 'color': (0, 0, 255)}], maxlen=1)\n",
      "deque([{'data': ['0016500581680'], 'codeTypes': ['EAN13'], 'qualities': [70], 'corners': [[(191, 145), (400, 259)]], 'color': (0, 0, 255)}], maxlen=1)\n",
      "deque([{'data': ['0016500581680'], 'codeTypes': ['EAN13'], 'qualities': [53], 'corners': [[(197, 161), (405, 257)]], 'color': (0, 0, 255)}], maxlen=1)\n",
      "deque([{'data': ['0016500581680'], 'codeTypes': ['EAN13'], 'qualities': [104], 'corners': [[(185, 151), (397, 256)]], 'color': (0, 0, 255)}], maxlen=1)\n",
      "deque([{'data': ['0016500581680'], 'codeTypes': ['EAN13'], 'qualities': [33], 'corners': [[(187, 159), (401, 258)]], 'color': (0, 0, 255)}], maxlen=1)\n",
      "deque([{'data': ['https://tinysa.org/'], 'codeTypes': ['QRCODE'], 'qualities': [1], 'corners': [[(187, 227), (307, 352)]], 'color': (0, 0, 255)}], maxlen=1)\n",
      "deque([{'data': ['https://tinysa.org/'], 'codeTypes': ['QRCODE'], 'qualities': [1], 'corners': [[(179, 234), (300, 360)]], 'color': (0, 0, 255)}], maxlen=1)\n",
      "deque([{'data': ['https://tinysa.org/'], 'codeTypes': ['QRCODE'], 'qualities': [1], 'corners': [[(182, 244), (303, 370)]], 'color': (0, 0, 255)}], maxlen=1)\n",
      "deque([{'data': ['https://tinysa.org/'], 'codeTypes': ['QRCODE'], 'qualities': [1], 'corners': [[(184, 248), (305, 372)]], 'color': (0, 0, 255)}], maxlen=1)\n",
      "deque([{'data': ['https://tinysa.org/'], 'codeTypes': ['QRCODE'], 'qualities': [1], 'corners': [[(177, 244), (298, 370)]], 'color': (0, 0, 255)}], maxlen=1)\n"
     ]
    }
   ],
   "source": [
    "camera.addBarcode(postFunction=barcodePost)"
   ]
  },
  {
   "cell_type": "code",
   "execution_count": 27,
   "id": "993489f7",
   "metadata": {},
   "outputs": [
    {
     "name": "stdout",
     "output_type": "stream",
     "text": [
      "LOGGER: Stopping barcode default thread.\n"
     ]
    }
   ],
   "source": [
    "camera.barcode['default'].stop()"
   ]
  },
  {
   "cell_type": "markdown",
   "id": "843722b5",
   "metadata": {},
   "source": [
    "## Face Detection"
   ]
  },
  {
   "cell_type": "code",
   "execution_count": 28,
   "id": "a45343b4",
   "metadata": {},
   "outputs": [
    {
     "name": "stdout",
     "output_type": "stream",
     "text": [
      "LOGGER: Starting facedetect default thread at 5 fps\n"
     ]
    }
   ],
   "source": [
    "camera.addFaceDetect()"
   ]
  },
  {
   "cell_type": "code",
   "execution_count": 29,
   "id": "3a26c299",
   "metadata": {},
   "outputs": [
    {
     "name": "stdout",
     "output_type": "stream",
     "text": [
      "LOGGER: Stopping FaceDetect default thread.\n",
      "LOGGER: Stopping FaceDetect default thread.\n",
      "LOGGER: Stopping facedetect default thread.\n",
      "LOGGER: Stopping FaceDetect default thread.\n"
     ]
    }
   ],
   "source": [
    "camera.facedetect['default'].stop()"
   ]
  },
  {
   "cell_type": "markdown",
   "id": "0a6f8740",
   "metadata": {},
   "source": [
    "## Don't Forget to Shut Down Camera!"
   ]
  },
  {
   "cell_type": "code",
   "execution_count": 30,
   "id": "54501ab0",
   "metadata": {},
   "outputs": [
    {
     "name": "stderr",
     "output_type": "stream",
     "text": [
      "127.0.0.1 - - [27/Jan/2025 21:24:53] code 404, message Not Found\n",
      "127.0.0.1 - - [27/Jan/2025 21:24:53] \"GET /favicon.ico HTTP/1.1\" 404 -\n",
      "127.0.0.1 - - [27/Jan/2025 21:24:58] \"GET /stream.mjpg HTTP/1.1\" 200 -\n",
      "127.0.0.1 - - [27/Jan/2025 21:25:01] \"GET /stream.mjpg HTTP/1.1\" 200 -\n",
      "127.0.0.1 - - [27/Jan/2025 21:25:05] \"GET /stream.mjpg HTTP/1.1\" 200 -\n"
     ]
    }
   ],
   "source": [
    "# Be sure to stop the camera before you go\n",
    "camera.stop()"
   ]
  },
  {
   "cell_type": "code",
   "execution_count": null,
   "id": "2ab247e1",
   "metadata": {},
   "outputs": [],
   "source": []
  }
 ],
 "metadata": {
  "kernelspec": {
   "display_name": "Python 3 (ipykernel)",
   "language": "python",
   "name": "python3"
  },
  "language_info": {
   "codemirror_mode": {
    "name": "ipython",
    "version": 3
   },
   "file_extension": ".py",
   "mimetype": "text/x-python",
   "name": "python",
   "nbconvert_exporter": "python",
   "pygments_lexer": "ipython3",
   "version": "3.8.10"
  }
 },
 "nbformat": 4,
 "nbformat_minor": 5
}
